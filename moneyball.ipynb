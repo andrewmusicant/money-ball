{
 "cells": [
  {
   "cell_type": "markdown",
   "metadata": {},
   "source": [
    "# Money ball"
   ]
  },
  {
   "cell_type": "markdown",
   "metadata": {},
   "source": [
    "# Here i import in all the features that i need for my program"
   ]
  },
  {
   "cell_type": "code",
   "execution_count": 18,
   "metadata": {
    "collapsed": false
   },
   "outputs": [],
   "source": [
    "import warnings\n",
    "warnings.filterwarnings(\"ignore\")\n",
    "import pandas as pd\n",
    "import numpy as np\n",
    "import datetime\n",
    "import matplotlib.pyplot as plt\n",
    "%matplotlib inline"
   ]
  },
  {
   "cell_type": "markdown",
   "metadata": {},
   "source": [
    "# Here i import in the data and give the column names for each column"
   ]
  },
  {
   "cell_type": "code",
   "execution_count": 19,
   "metadata": {
    "collapsed": false
   },
   "outputs": [],
   "source": [
    "column_names = ['yearID', 'playerID', 'salary']\n",
    "salaries = pd.read_csv('data/Salaries.csv', sep=',', usecols= column_names)"
   ]
  },
  {
   "cell_type": "code",
   "execution_count": 20,
   "metadata": {
    "collapsed": false,
    "scrolled": true
   },
   "outputs": [],
   "source": [
    "column_names = ['playerID','yearID', 'teamID', 'H', 'BB', 'AB', 'HBP', 'SF']\n",
    "batting = pd.read_csv('data/Batting.csv', sep=',', usecols=column_names)"
   ]
  },
  {
   "cell_type": "code",
   "execution_count": 21,
   "metadata": {
    "collapsed": false,
    "scrolled": true
   },
   "outputs": [],
   "source": [
    "column_names = ['playerID', 'birthYear', 'deathYear', 'nameFirst','nameLast']\n",
    "names = pd.read_csv('data/Master.csv', sep=',', usecols=column_names)"
   ]
  },
  {
   "cell_type": "code",
   "execution_count": 22,
   "metadata": {
    "collapsed": false
   },
   "outputs": [],
   "source": [
    "column_names = ['playerID','teamID','G_all', 'yearID', 'G_p', 'G_c', 'G_1b', 'G_2b', 'G_3b', 'G_ss', 'G_lf', 'G_cf', 'G_rf']\n",
    "appearances = pd.read_csv('data/Appearances.csv', sep=',', usecols=column_names)"
   ]
  },
  {
   "cell_type": "markdown",
   "metadata": {},
   "source": [
    "# Below i merge all the data into a pandas dataframe"
   ]
  },
  {
   "cell_type": "code",
   "execution_count": 23,
   "metadata": {
    "collapsed": false
   },
   "outputs": [],
   "source": [
    "batting_salaries= batting.merge(salaries, on=['playerID','yearID'])"
   ]
  },
  {
   "cell_type": "code",
   "execution_count": 24,
   "metadata": {
    "collapsed": false,
    "scrolled": true
   },
   "outputs": [],
   "source": [
    "comp_mer = batting_salaries.merge(appearances, on=['playerID', 'yearID'])\n",
    "trash = comp_mer.pop('teamID_y')"
   ]
  },
  {
   "cell_type": "code",
   "execution_count": 25,
   "metadata": {
    "collapsed": false
   },
   "outputs": [],
   "source": [
    "comp_mer = comp_mer.fillna(0)"
   ]
  },
  {
   "cell_type": "markdown",
   "metadata": {},
   "source": [
    "# Below I calculate the OBP (on-base-percentage)"
   ]
  },
  {
   "cell_type": "code",
   "execution_count": 26,
   "metadata": {
    "collapsed": false
   },
   "outputs": [],
   "source": [
    "THING1= (comp_mer['H']+ comp_mer['BB']+comp_mer['HBP'])"
   ]
  },
  {
   "cell_type": "code",
   "execution_count": 27,
   "metadata": {
    "collapsed": false
   },
   "outputs": [],
   "source": [
    "THING2=(comp_mer['AB']+comp_mer['BB']+comp_mer['HBP']+comp_mer['SF'])"
   ]
  },
  {
   "cell_type": "code",
   "execution_count": 28,
   "metadata": {
    "collapsed": true
   },
   "outputs": [],
   "source": [
    "THING_END= THING1/THING2"
   ]
  },
  {
   "cell_type": "code",
   "execution_count": 29,
   "metadata": {
    "collapsed": true
   },
   "outputs": [],
   "source": [
    "comp_mer['OBP']=THING_END"
   ]
  },
  {
   "cell_type": "markdown",
   "metadata": {},
   "source": [
    "# Below I fill in all the NaN values that were in the data then filter out anyone who hasnt played more than 25 games and has an OBP higher than 0.0"
   ]
  },
  {
   "cell_type": "code",
   "execution_count": 30,
   "metadata": {
    "collapsed": false
   },
   "outputs": [],
   "source": [
    "comp_mer = comp_mer.fillna(0)\n",
    "comp_mer['OBP by dollar'] = comp_mer['OBP'] / comp_mer['salary']\n",
    "comp_mer = comp_mer[comp_mer['G_all'] > 25]\n",
    "comp_mer = comp_mer[comp_mer['OBP'] > 0.0]\n",
    "comp_mer = comp_mer.sort_values('OBP', ascending=False)"
   ]
  },
  {
   "cell_type": "markdown",
   "metadata": {},
   "source": [
    "# And lastly i find the best player by finding the highest OBP compared to their salery"
   ]
  },
  {
   "cell_type": "code",
   "execution_count": 31,
   "metadata": {
    "collapsed": false
   },
   "outputs": [],
   "source": [
    "def best_player():\n",
    "    positions = ['G_p', 'G_c', 'G_1b', 'G_2b', 'G_3b', 'G_ss', 'G_lf', 'G_cf', 'G_rf']\n",
    "    best_players = []\n",
    "    for position in positions:\n",
    "        if position == 'G_p':\n",
    "            best_players.append(comp_mer[(comp_mer['G_p'] > 20) & (comp_mer['AB'] > 20)].sort(['OBP by dollar'], ascending=False)[:1])\n",
    "        else:\n",
    "            best_players.append(comp_mer[comp_mer[position] > 50].sort(['OBP by dollar'], ascending=False)[:1])\n",
    "    return best_players\n",
    "best_players = best_player()"
   ]
  },
  {
   "cell_type": "code",
   "execution_count": 32,
   "metadata": {
    "collapsed": false
   },
   "outputs": [
    {
     "name": "stdout",
     "output_type": "stream",
     "text": [
      "[       playerID  yearID teamID_x    AB     H   BB  HBP   SF  salary  G_all  \\\n",
      "2069  moyerja01    1987      CHN  61.0  14.0  6.0  0.0  1.0   70000   39.0   \n",
      "\n",
      "          ...        G_c  G_1b  G_2b  G_3b  G_ss  G_lf  G_cf  G_rf       OBP  \\\n",
      "2069      ...          0     0     0     0     0     0     0     0  0.294118   \n",
      "\n",
      "      OBP by dollar  \n",
      "2069       0.000004  \n",
      "\n",
      "[1 rows x 21 columns],        playerID  yearID teamID_x     AB     H    BB  HBP   SF  salary  G_all  \\\n",
      "1144  lowrydw01    1986      DET  150.0  46.0  17.0  4.0  0.0   62500   56.0   \n",
      "\n",
      "          ...        G_c  G_1b  G_2b  G_3b  G_ss  G_lf  G_cf  G_rf       OBP  \\\n",
      "1144      ...         55     1     0     0     0     0     0     1  0.391813   \n",
      "\n",
      "      OBP by dollar  \n",
      "1144       0.000006  \n",
      "\n",
      "[1 rows x 21 columns],       playerID  yearID teamID_x     AB      H    BB  HBP   SF  salary  G_all  \\\n",
      "810  clarkwi02    1986      SFN  408.0  117.0  34.0  3.0  4.0   60000  111.0   \n",
      "\n",
      "         ...        G_c  G_1b  G_2b  G_3b  G_ss  G_lf  G_cf  G_rf       OBP  \\\n",
      "810      ...          0   102     0     0     0     0     0     0  0.342984   \n",
      "\n",
      "     OBP by dollar  \n",
      "810       0.000006  \n",
      "\n",
      "[1 rows x 21 columns],        playerID  yearID teamID_x     AB     H    BB  HBP   SF  salary  G_all  \\\n",
      "2182  ripkebi01    1987      BAL  234.0  72.0  21.0  0.0  1.0   62500   58.0   \n",
      "\n",
      "          ...        G_c  G_1b  G_2b  G_3b  G_ss  G_lf  G_cf  G_rf       OBP  \\\n",
      "2182      ...          0     0    58     0     0     0     0     0  0.363281   \n",
      "\n",
      "      OBP by dollar  \n",
      "2182       0.000006  \n",
      "\n",
      "[1 rows x 21 columns],        playerID  yearID teamID_x     AB      H    BB  HBP   SF  salary  G_all  \\\n",
      "2229  seitzke01    1987      KCA  641.0  207.0  80.0  2.0  1.0   62500  161.0   \n",
      "\n",
      "          ...        G_c  G_1b  G_2b  G_3b  G_ss  G_lf  G_cf  G_rf       OBP  \\\n",
      "2229      ...          0    24     0   141     0     3     0     0  0.399171   \n",
      "\n",
      "      OBP by dollar  \n",
      "2229       0.000006  \n",
      "\n",
      "[1 rows x 21 columns],       playerID  yearID teamID_x     AB     H    BB  HBP   SF  salary  G_all  \\\n",
      "2958  reedjo01    1988      BOS  338.0  99.0  45.0  4.0  2.0   64500  109.0   \n",
      "\n",
      "          ...        G_c  G_1b  G_2b  G_3b  G_ss  G_lf  G_cf  G_rf       OBP  \\\n",
      "2958      ...          0     0    11     4    94     0     0     0  0.380463   \n",
      "\n",
      "      OBP by dollar  \n",
      "2958       0.000006  \n",
      "\n",
      "[1 rows x 21 columns],        playerID  yearID teamID_x     AB      H    BB  HBP   SF  salary  G_all  \\\n",
      "7392  jamesdi01    1993      NYA  343.0  114.0  31.0  2.0  1.0       0  115.0   \n",
      "\n",
      "          ...        G_c  G_1b  G_2b  G_3b  G_ss  G_lf  G_cf  G_rf      OBP  \\\n",
      "7392      ...          0     1     0     0     0    91    14     1  0.38992   \n",
      "\n",
      "      OBP by dollar  \n",
      "7392            inf  \n",
      "\n",
      "[1 rows x 21 columns],        playerID  yearID teamID_x     AB     H    BB  HBP   SF  salary  G_all  \\\n",
      "2342  youngge02    1987      HOU  274.0  88.0  26.0  1.0  2.0   62500   71.0   \n",
      "\n",
      "          ...        G_c  G_1b  G_2b  G_3b  G_ss  G_lf  G_cf  G_rf       OBP  \\\n",
      "2342      ...          0     0     0     0     0     0    67     0  0.379538   \n",
      "\n",
      "      OBP by dollar  \n",
      "2342       0.000006  \n",
      "\n",
      "[1 rows x 21 columns],        playerID  yearID teamID_x     AB      H    BB  HBP   SF  salary  G_all  \\\n",
      "1389  sierrru01    1986      TEX  382.0  101.0  22.0  1.0  5.0   60000  113.0   \n",
      "\n",
      "          ...        G_c  G_1b  G_2b  G_3b  G_ss  G_lf  G_cf  G_rf       OBP  \\\n",
      "1389      ...          0     0     0     0     0    44    21    68  0.302439   \n",
      "\n",
      "      OBP by dollar  \n",
      "1389       0.000005  \n",
      "\n",
      "[1 rows x 21 columns]]\n"
     ]
    }
   ],
   "source": [
    "print(best_players)"
   ]
  },
  {
   "cell_type": "code",
   "execution_count": null,
   "metadata": {
    "collapsed": true
   },
   "outputs": [],
   "source": []
  }
 ],
 "metadata": {
  "kernelspec": {
   "display_name": "Python 3",
   "language": "python",
   "name": "python3"
  },
  "language_info": {
   "codemirror_mode": {
    "name": "ipython",
    "version": 3
   },
   "file_extension": ".py",
   "mimetype": "text/x-python",
   "name": "python",
   "nbconvert_exporter": "python",
   "pygments_lexer": "ipython3",
   "version": "3.5.2"
  }
 },
 "nbformat": 4,
 "nbformat_minor": 0
}
